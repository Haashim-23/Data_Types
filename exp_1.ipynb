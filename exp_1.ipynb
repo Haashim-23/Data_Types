{
  "nbformat": 4,
  "nbformat_minor": 0,
  "metadata": {
    "colab": {
      "provenance": [],
      "authorship_tag": "ABX9TyPeXtYipWmIAPdkBa8UorON",
      "include_colab_link": true
    },
    "kernelspec": {
      "name": "python3",
      "display_name": "Python 3"
    },
    "language_info": {
      "name": "python"
    }
  },
  "cells": [
    {
      "cell_type": "markdown",
      "metadata": {
        "id": "view-in-github",
        "colab_type": "text"
      },
      "source": [
        "<a href=\"https://colab.research.google.com/github/Haashim-23/Data_Types/blob/main/exp_1.ipynb\" target=\"_parent\"><img src=\"https://colab.research.google.com/assets/colab-badge.svg\" alt=\"Open In Colab\"/></a>"
      ]
    },
    {
      "cell_type": "code",
      "execution_count": 1,
      "metadata": {
        "colab": {
          "base_uri": "https://localhost:8080/"
        },
        "id": "_z5SHFKUfQoH",
        "outputId": "2892c5ee-ad54-4bbc-b8f5-dd41c56afec6"
      },
      "outputs": [
        {
          "output_type": "stream",
          "name": "stdout",
          "text": [
            "Age: 25 Type: <class 'int'>\n",
            "Height: 5.9 Type: <class 'float'>\n",
            "Name: Alice Type: <class 'str'>\n",
            "Is Student: True Type: <class 'bool'>\n",
            "Fruits: ['apple', 'banana', 'cherry'] Type: <class 'list'>\n",
            "Colors: ('red', 'green', 'blue') Type: <class 'tuple'>\n",
            "Person: {'name': 'Bob', 'age': 30} Type: <class 'dict'>\n",
            "Number from 1 to 5:\n",
            "1\n",
            "2\n",
            "3\n",
            "4\n",
            "5\n"
          ]
        }
      ],
      "source": [
        "# Integer\n",
        "age = 25\n",
        "print(\"Age:\", age, \"Type:\", type(age))\n",
        "\n",
        "# Float\n",
        "height = 5.9\n",
        "print(\"Height:\", height, \"Type:\", type(height))\n",
        "\n",
        "# String\n",
        "name = \"Alice\"\n",
        "print(\"Name:\", name, \"Type:\", type(name))\n",
        "\n",
        "# Boolean\n",
        "is_student = True\n",
        "print(\"Is Student:\", is_student, \"Type:\", type(is_student))\n",
        "\n",
        "# List\n",
        "fruits = [\"apple\", \"banana\", \"cherry\"]\n",
        "print(\"Fruits:\", fruits, \"Type:\", type(fruits))\n",
        "\n",
        "# Tuple\n",
        "colors = (\"red\", \"green\", \"blue\")\n",
        "print(\"Colors:\", colors, \"Type:\", type(colors))\n",
        "\n",
        "# Dictionary\n",
        "person = {\"name\": \"Bob\", \"age\": 30}\n",
        "print(\"Person:\", person, \"Type:\", type(person))\n",
        "\n",
        "#for-loops\n",
        "print(\"Number from 1 to 5:\")\n",
        "for i in range(1,6) :\n",
        "  print(i)\n",
        "\n",
        "#while-loops\n",
        "count = 5\n",
        "print(\"Countdown:\")\n",
        "while count > 0:\n",
        "    print(count)\n",
        "    count -= 1\n",
        "\n",
        "#Looping through a list\n",
        "colors = [\"red\", \"green\", \"blue\"]\n",
        "print(\"Colors in the list:\")\n",
        "for color in colors:\n",
        "    print(color)\n",
        "\n",
        "#Using loops with conditions (even number)\n",
        "print(\"Even numbers from 1 to 10:\")\n",
        "for i in range(1, 11):\n",
        "    if i % 2 == 0:\n",
        "        print(i)\n"
      ]
    }
  ]
}